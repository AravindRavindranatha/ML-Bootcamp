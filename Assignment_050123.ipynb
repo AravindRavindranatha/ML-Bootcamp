{
 "cells": [
  {
   "cell_type": "markdown",
   "metadata": {},
   "source": [
    "##### **1. Write a program to accept five integers from the user , store them in a list . Display these integers and also display their sum**"
   ]
  },
  {
   "cell_type": "code",
   "execution_count": 1,
   "metadata": {},
   "outputs": [
    {
     "name": "stdout",
     "output_type": "stream",
     "text": [
      "list of integers:[1, 2, 2, 2, 2]\n",
      "Sum of the Intergers in the list is 9\n"
     ]
    }
   ],
   "source": [
    "\n",
    "numbers=[]\n",
    "for i in range(5):\n",
    "    number= int(input(\"Enter a the number: \"))\n",
    "    numbers.append(number)\n",
    "print(\"list of integers:{}\".format(numbers))\n",
    "print(\"Sum of the Intergers in the list is {}\".format(sum(numbers)))\n"
   ]
  },
  {
   "cell_type": "markdown",
   "metadata": {},
   "source": [
    "##### **2. Write a program to accept 5 unique integers from the user. Make sure if the integer being entered is already present in the list your code displays the message “Item already present” and ask the user to reenter the integer.**"
   ]
  },
  {
   "cell_type": "code",
   "execution_count": 5,
   "metadata": {},
   "outputs": [
    {
     "name": "stdout",
     "output_type": "stream",
     "text": [
      "The unique number you entered are: [2, 3, 4, 5, 6]\n"
     ]
    }
   ],
   "source": [
    "numbers = []\n",
    "\n",
    "for i in range(5):\n",
    "    number = int(input(\"Enter a unique number: \"))\n",
    "    if number in numbers:\n",
    "        print(\"Item already present. Enter a new number.\")\n",
    "        continue\n",
    "    numbers.append(number)\n",
    "\n",
    "print(\"The unique number you entered are: {}\".format(numbers))\n"
   ]
  },
  {
   "cell_type": "markdown",
   "metadata": {},
   "source": [
    "##### **3.Write a program to accept 2 lists from the user of 5 nos each . Assume each list will have unique nos Now find out how many items in these lists are common .**"
   ]
  },
  {
   "cell_type": "code",
   "execution_count": 6,
   "metadata": {},
   "outputs": [
    {
     "name": "stdout",
     "output_type": "stream",
     "text": [
      "count of common items: 4\n"
     ]
    }
   ],
   "source": [
    "list1 = []\n",
    "list2 = []\n",
    "\n",
    "for i in range(5):\n",
    "    number = int(input(\"Enter a number for list1: \"))\n",
    "    list1.append(number)\n",
    "\n",
    "for i in range(5):\n",
    "    number = int(input(\"Enter a number for list2: \"))\n",
    "    list2.append(number)\n",
    "\n",
    "common = [item for item in list1 if item in list2]\n",
    "\n",
    "print(\"count of common items: {}\".format(len(common)))\n"
   ]
  },
  {
   "cell_type": "markdown",
   "metadata": {},
   "source": [
    "##### **4.Rewrite the previous code so that your code also displays the items which are common in both the lists**"
   ]
  },
  {
   "cell_type": "code",
   "execution_count": 8,
   "metadata": {},
   "outputs": [
    {
     "name": "stdout",
     "output_type": "stream",
     "text": [
      "count of common items: 1\n",
      "common items in the both the list:[3] \n"
     ]
    }
   ],
   "source": [
    "list1 = []\n",
    "list2 = []\n",
    "\n",
    "for i in range(5):\n",
    "    number = int(input(\"Enter a number for list1: \"))\n",
    "    list1.append(number)\n",
    "\n",
    "for i in range(5):\n",
    "    number = int(input(\"Enter a number for list2: \"))\n",
    "    list2.append(number)\n",
    "\n",
    "common = [item for item in list1 if item in list2]\n",
    "\n",
    "print(\"count of common items: {}\".format(len(common)))\n",
    "print(\"common items in the both the list:{} \".format(common))"
   ]
  },
  {
   "cell_type": "code",
   "execution_count": null,
   "metadata": {},
   "outputs": [],
   "source": []
  }
 ],
 "metadata": {
  "kernelspec": {
   "display_name": "Python 3.7.9 64-bit",
   "language": "python",
   "name": "python3"
  },
  "language_info": {
   "codemirror_mode": {
    "name": "ipython",
    "version": 3
   },
   "file_extension": ".py",
   "mimetype": "text/x-python",
   "name": "python",
   "nbconvert_exporter": "python",
   "pygments_lexer": "ipython3",
   "version": "3.7.9"
  },
  "orig_nbformat": 4,
  "vscode": {
   "interpreter": {
    "hash": "f475538f88623e2bcc96bc18951a62b708a60cacbcf63aa1b9dfc40493a28441"
   }
  }
 },
 "nbformat": 4,
 "nbformat_minor": 2
}
