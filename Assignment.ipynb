{
 "cells": [
  {
   "cell_type": "markdown",
   "metadata": {},
   "source": [
    "# 13-Dec-2022"
   ]
  },
  {
   "cell_type": "markdown",
   "metadata": {},
   "source": [
    "## WAP to accept two numbers from the user and display their sum"
   ]
  },
  {
   "cell_type": "code",
   "execution_count": 38,
   "metadata": {},
   "outputs": [
    {
     "name": "stdout",
     "output_type": "stream",
     "text": [
      "First number entered is:23\n",
      "Second number entered is: 21\n"
     ]
    }
   ],
   "source": [
    "num1=int(input(\"Enter the First number:\"))\n",
    "num2=int(input(\"Enter the Second number:\"))\n",
    "print(\"First number entered is:%d\" %(num1),\"Second number entered is: %d\" %(num2),sep='\\n')"
   ]
  },
  {
   "cell_type": "markdown",
   "metadata": {},
   "source": [
    "## WAP to accept radius of a Circle from the user and calculate area and circumference"
   ]
  },
  {
   "cell_type": "code",
   "execution_count": 36,
   "metadata": {},
   "outputs": [
    {
     "name": "stdout",
     "output_type": "stream",
     "text": [
      "Area of cicle = 350285.840000\n",
      "Cirumference of the circle = 2097.520000\n"
     ]
    }
   ],
   "source": [
    "radius=int(input(\"Enter the Raidus:\"))\n",
    "pi=3.14\n",
    "area=pi*(radius**2)\n",
    "cirum=2*pi*radius\n",
    "print(\"Area of cicle = %f\" %area)\n",
    "print(\"Cirumference of the circle = %f\" %cirum)"
   ]
  },
  {
   "cell_type": "markdown",
   "metadata": {},
   "source": [
    "## WAP to accept roll number , grade and percentage as input from the user and display it back"
   ]
  },
  {
   "cell_type": "code",
   "execution_count": 52,
   "metadata": {},
   "outputs": [
    {
     "name": "stdout",
     "output_type": "stream",
     "text": [
      "Roll Number = 12\n",
      "Grade = A\n",
      "Percentage = 12.0%\n"
     ]
    }
   ],
   "source": [
    "roll_no=int(input(\"Enter the Roll Number: \"))\n",
    "grade=str(input(\"Enter the Grade: \"))\n",
    "percentage=float(input(\"Enter the percentage Number: \"))\n",
    "print(\"Roll Number = %d\" %roll_no,\"Grade = %s\" %grade,\"Percentage = {}{}\" .format(percentage,\"%\"),sep='\\n')"
   ]
  },
  {
   "cell_type": "markdown",
   "metadata": {},
   "source": [
    "## Write a program that asks the user to enter his/her name and age. Print out a message , displaying the user’s name along with the year in which they will turn 100 years old."
   ]
  },
  {
   "cell_type": "code",
   "execution_count": 54,
   "metadata": {},
   "outputs": [
    {
     "name": "stdout",
     "output_type": "stream",
     "text": [
      "Rohin will 100 yrs old in the year 2095\n"
     ]
    }
   ],
   "source": [
    "name=str(input(\"Enter the Name:\"))\n",
    "age=int(input(\"Enter the age:\"))\n",
    "c_year=2022\n",
    "h_year=c_year+(100-age)\n",
    "print(name+\" will 100 yrs old in the year %d\" %h_year)"
   ]
  },
  {
   "cell_type": "markdown",
   "metadata": {},
   "source": [
    "## Write a program that asks the user to input 2 integers and adds them . Accept both the numbers in a single line only"
   ]
  },
  {
   "cell_type": "code",
   "execution_count": 63,
   "metadata": {},
   "outputs": [
    {
     "name": "stdout",
     "output_type": "stream",
     "text": [
      "The sum of two integers are: 1175247\n"
     ]
    }
   ],
   "source": [
    "x, y = map(int, input(\"Enter the numbers with space:\").split())\n",
    "z=x+y\n",
    "print(\"The sum of two integers are: %d\" %z)"
   ]
  },
  {
   "cell_type": "markdown",
   "metadata": {},
   "source": [
    "## Write a Python program which accepts the user's first and last name and print them in reverse order with a space between them"
   ]
  },
  {
   "cell_type": "code",
   "execution_count": 55,
   "metadata": {},
   "outputs": [
    {
     "name": "stdout",
     "output_type": "stream",
     "text": [
      "ahtanardnivaR dnivarA\n"
     ]
    }
   ],
   "source": [
    "First_name=str(input(\"Enter the First Name:\"))\n",
    "Last_name=str(input(\"Enter the Last Name:\"))\n",
    "f_name=First_name+\" \"+Last_name\n",
    "print(f_name[::-1])"
   ]
  },
  {
   "cell_type": "markdown",
   "metadata": {},
   "source": [
    "# 15-Dec-2022"
   ]
  },
  {
   "cell_type": "markdown",
   "metadata": {},
   "source": [
    "## WAP to accept an integer from the user and check whether it is an even or odd "
   ]
  },
  {
   "cell_type": "code",
   "execution_count": 65,
   "metadata": {},
   "outputs": [
    {
     "name": "stdout",
     "output_type": "stream",
     "text": [
      "Given number is ODD\n"
     ]
    }
   ],
   "source": [
    "num=int(input(\"Enter the Number:\"))\n",
    "if num%2==0:\n",
    "    print(\"Given number is Even\")\n",
    "else:\n",
    "    print(\"Given number is ODD\")"
   ]
  },
  {
   "cell_type": "markdown",
   "metadata": {},
   "source": [
    "## WAP to accept a character from the user and check whether it is a capital letter or small letter. Assume user will input only alphabets"
   ]
  },
  {
   "cell_type": "code",
   "execution_count": 67,
   "metadata": {},
   "outputs": [
    {
     "name": "stdout",
     "output_type": "stream",
     "text": [
      "Upper\n"
     ]
    }
   ],
   "source": [
    "alphabet=str(input(\"Enter the Alphabet:\"))\n",
    "\n",
    "if \"A\"<=alphabet<=\"Z\":\n",
    "    print(\"Upper\")\n",
    "else:\n",
    "    print(\"Lower\")"
   ]
  },
  {
   "cell_type": "markdown",
   "metadata": {},
   "source": [
    "## WAP to accept a character from the user and check whether it is a capital letter or small letter or a digit or some special symbol"
   ]
  },
  {
   "cell_type": "code",
   "execution_count": 35,
   "metadata": {},
   "outputs": [
    {
     "name": "stdout",
     "output_type": "stream",
     "text": [
      "Given is a special character\n"
     ]
    }
   ],
   "source": [
    "string=input(\"Enter the string:\")\n",
    "inp=ord(string)\n",
    "\n",
    "if 65<=inp<=90:\n",
    "    print(\"Given is a Upper case\")\n",
    "elif 97<=inp<=122:\n",
    "    print(\"Given is a Lower case\")\n",
    "elif 48<=inp<=57:\n",
    "    print(\"Given is a digit\")\n",
    "else:\n",
    "    print(\"Given is a special character\")\n"
   ]
  },
  {
   "cell_type": "markdown",
   "metadata": {},
   "source": [
    "## WAP to accept 3 integers from the user and without using any logical operator and cascading of relational operators , find out the greatest number amongst them\n"
   ]
  },
  {
   "cell_type": "code",
   "execution_count": 81,
   "metadata": {},
   "outputs": [
    {
     "name": "stdout",
     "output_type": "stream",
     "text": [
      "Num3 is greater\n"
     ]
    }
   ],
   "source": [
    "num1=int(input(\"Enter the first number:\"))\n",
    "num2=int(input(\"Enter the second number:\"))\n",
    "num3=int(input(\"Enter the third number:\"))\n",
    "\n",
    "if num1>num2:\n",
    "    if num1>num2:\n",
    "        print(\"Num1 is greater\")\n",
    "    elif num2>num1:\n",
    "        if num2>num3:\n",
    "            print(\"Num2 is greater\")\n",
    "else:\n",
    "    print(\"Num3 is greater\")\n",
    "\n"
   ]
  },
  {
   "cell_type": "markdown",
   "metadata": {},
   "source": [
    "## WAP to accept a year from the user and check whether it is a leap year or not.\n",
    "- An year is a leap year if:\n",
    "    - It is exactly divisible by 4 and at the same time not\n",
    "    - divisible by 100 OR It is divisible by 400\n",
    "- For example:\n",
    "    - 2017 is not a leap year\n",
    "    - 2012 is a leap year\n",
    "    - 1900 is a not leap year\n",
    "    - 2000 is a leap year \n"
   ]
  },
  {
   "cell_type": "code",
   "execution_count": 2,
   "metadata": {},
   "outputs": [
    {
     "name": "stdout",
     "output_type": "stream",
     "text": [
      "2012 is a leap year\n"
     ]
    }
   ],
   "source": [
    "year = int(input(\"Enter the Year:\"))\n",
    "\n",
    "if (year % 4 == 0) and (year % 100 != 0):\n",
    "    print(\"{} is a leap year\".format(year))\n",
    "elif (year % 400 ==0):\n",
    "    print(\"{} is a leap year\".format(year))\n",
    "else:\n",
    "    print(\"{} is not a leap year\".format(year))"
   ]
  },
  {
   "cell_type": "markdown",
   "metadata": {},
   "source": [
    "## You have to develop a number guessing game. Following are the steps needed:\n",
    "- At first , the program will generate a random integer secretly.\n",
    "- Now it will ask the user to guess that number .\n",
    "- If the user guessed it correctly then the program prints “Congratulations! You guessed it right”.\n",
    "- But if the number guessed by the user is larger than the secret number then program should print “Number too large” and, if the number guessed by the user is smaller than the secret number then the program should print “Number too small” \n",
    "- This should continue until the user guesses the number correctly or quits .\n",
    "- If the user wants to quit in between he will have to type 0 or negative number\n"
   ]
  },
  {
   "cell_type": "code",
   "execution_count": 38,
   "metadata": {},
   "outputs": [
    {
     "ename": "KeyboardInterrupt",
     "evalue": "",
     "output_type": "error",
     "traceback": [
      "\u001b[1;31m---------------------------------------------------------------------------\u001b[0m",
      "\u001b[1;31mKeyboardInterrupt\u001b[0m                         Traceback (most recent call last)",
      "\u001b[1;32m~\\AppData\\Local\\Temp\\ipykernel_2220\\3444307467.py\u001b[0m in \u001b[0;36m<module>\u001b[1;34m\u001b[0m\n\u001b[0;32m      3\u001b[0m \u001b[1;33m\u001b[0m\u001b[0m\n\u001b[0;32m      4\u001b[0m \u001b[1;32mwhile\u001b[0m \u001b[0mguess\u001b[0m \u001b[1;33m!=\u001b[0m \u001b[1;36m0\u001b[0m\u001b[1;33m:\u001b[0m\u001b[1;33m\u001b[0m\u001b[1;33m\u001b[0m\u001b[0m\n\u001b[1;32m----> 5\u001b[1;33m     \u001b[1;32mif\u001b[0m \u001b[0mrandom_num\u001b[0m \u001b[1;33m==\u001b[0m \u001b[0mguess\u001b[0m\u001b[1;33m:\u001b[0m\u001b[1;33m\u001b[0m\u001b[1;33m\u001b[0m\u001b[0m\n\u001b[0m\u001b[0;32m      6\u001b[0m         \u001b[0mprint\u001b[0m\u001b[1;33m(\u001b[0m\u001b[1;34m\"Congratulations! You guessed it right\"\u001b[0m\u001b[1;33m)\u001b[0m\u001b[1;33m\u001b[0m\u001b[1;33m\u001b[0m\u001b[0m\n\u001b[0;32m      7\u001b[0m         \u001b[1;32mif\u001b[0m \u001b[0mguess\u001b[0m \u001b[1;33m>\u001b[0m \u001b[0mrandom_num\u001b[0m\u001b[1;33m:\u001b[0m\u001b[1;33m\u001b[0m\u001b[1;33m\u001b[0m\u001b[0m\n",
      "\u001b[1;31mKeyboardInterrupt\u001b[0m: "
     ]
    }
   ],
   "source": [
    "random_num=10\n",
    "guess=2\n",
    "\n",
    "while guess != 0:\n",
    "    if random_num == guess:\n",
    "        print(\"Congratulations! You guessed it right\")\n",
    "        if guess > random_num:\n",
    "            print(\"Number too large\")\n",
    "            if guess < random_num:\n",
    "                print(\"Number too small\")\n"
   ]
  },
  {
   "cell_type": "code",
   "execution_count": null,
   "metadata": {},
   "outputs": [],
   "source": [
    "num = None\n",
    "totalsum=0\n",
    "\n",
    "\n",
    "while num != 0:\n",
    "    num = int(input(\"Input an integer (0 terminates):\"))\n",
    "    if num > 0:\n",
    "        totalsum+=num\n",
    "        continue\n",
    "    elif num ==0:\n",
    "        print(totalsum)   \n"
   ]
  },
  {
   "cell_type": "markdown",
   "metadata": {},
   "source": [
    "## Write a program to accept a string from the user and display it vertically but don’t display the vowels in it. "
   ]
  },
  {
   "cell_type": "code",
   "execution_count": 3,
   "metadata": {},
   "outputs": [
    {
     "name": "stdout",
     "output_type": "stream",
     "text": [
      "r\n",
      "v\n",
      "n\n",
      "d\n"
     ]
    }
   ],
   "source": [
    "string = str(input(\"Enter the string:\"))\n",
    "i=0\n",
    "\n",
    "while i<(len(string)):\n",
    "    if string[i] in [\"a\",\"e\",\"i\",\"o\",\"u\"]:\n",
    "        pass\n",
    "    else:\n",
    "        print(string[i])\n",
    "    i+=1"
   ]
  },
  {
   "cell_type": "markdown",
   "metadata": {},
   "source": [
    "## Write a program to continuously accept integers from the user until the user types 0 and as soon as 0 is entered display sum of all the nos entered before 0"
   ]
  },
  {
   "cell_type": "code",
   "execution_count": 8,
   "metadata": {},
   "outputs": [
    {
     "name": "stdout",
     "output_type": "stream",
     "text": [
      "0\n"
     ]
    }
   ],
   "source": [
    "num = None\n",
    "totalsum=0\n",
    "\n",
    "\n",
    "while num != 0:\n",
    "    num = int(input(\"Input an integer (0 terminates):\"))\n",
    "    if num > 0:\n",
    "        totalsum+=num\n",
    "        continue\n",
    "    elif num ==0:\n",
    "        print(totalsum)   \n"
   ]
  },
  {
   "cell_type": "markdown",
   "metadata": {},
   "source": [
    "## Write a program to accept an integer from the user and display the sum of all the numbers from 1 to that number."
   ]
  },
  {
   "cell_type": "code",
   "execution_count": 16,
   "metadata": {},
   "outputs": [
    {
     "name": "stdout",
     "output_type": "stream",
     "text": [
      "4950\n"
     ]
    }
   ],
   "source": [
    "user_input=int(input(\"Enter the number:\"))\n",
    "i=0\n",
    "total_sum=0\n",
    "\n",
    "while i<user_input:\n",
    "    i=i+1\n",
    "    total_sum+=i\n",
    "\n",
    "print(total_sum)"
   ]
  },
  {
   "cell_type": "markdown",
   "metadata": {},
   "source": [
    "## Write a program to accept an integer from the user and calculate its factorial"
   ]
  },
  {
   "cell_type": "code",
   "execution_count": 23,
   "metadata": {},
   "outputs": [
    {
     "name": "stdout",
     "output_type": "stream",
     "text": [
      "720\n"
     ]
    }
   ],
   "source": [
    "user_inpu=6\n",
    "i=0\n",
    "factorial=1\n",
    "\n",
    "while i<user_inpu:\n",
    "    i=i+1\n",
    "    factorial=factorial*i\n",
    "\n",
    "print(factorial)"
   ]
  },
  {
   "cell_type": "code",
   "execution_count": null,
   "metadata": {},
   "outputs": [],
   "source": []
  }
 ],
 "metadata": {
  "kernelspec": {
   "display_name": "Python 3.7.9 64-bit",
   "language": "python",
   "name": "python3"
  },
  "language_info": {
   "codemirror_mode": {
    "name": "ipython",
    "version": 3
   },
   "file_extension": ".py",
   "mimetype": "text/x-python",
   "name": "python",
   "nbconvert_exporter": "python",
   "pygments_lexer": "ipython3",
   "version": "3.7.9"
  },
  "orig_nbformat": 4,
  "vscode": {
   "interpreter": {
    "hash": "f475538f88623e2bcc96bc18951a62b708a60cacbcf63aa1b9dfc40493a28441"
   }
  }
 },
 "nbformat": 4,
 "nbformat_minor": 2
}
